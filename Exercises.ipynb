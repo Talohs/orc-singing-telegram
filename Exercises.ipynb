{
 "cells": [
  {
   "cell_type": "markdown",
   "metadata": {},
   "source": [
    "#### Exercise 1 - Class Inheritance"
   ]
  },
  {
   "cell_type": "markdown",
   "metadata": {},
   "source": [
    "Create an Employee class that sets an employee's first name, last name, job title, salary, and email. The Employee class should have a class attribute for the raise amount set to 5% (1.05). Create a method that will apply the raise to an employee's salary."
   ]
  },
  {
   "cell_type": "code",
   "execution_count": 12,
   "metadata": {},
   "outputs": [],
   "source": [
    "class Employee:\n",
    "    raise_amt = 1.05\n",
    "    def __init__(self, f_name, l_name, title, salary, email):\n",
    "        self.f_name = f_name\n",
    "        self.l_name = l_name\n",
    "        self.title = title\n",
    "        self.salary = salary\n",
    "        self.email = email\n",
    "\n",
    "    def hooray(self):\n",
    "        self.salary *= Employee.raise_amt\n",
    "        return self.salary\n",
    "    "
   ]
  },
  {
   "cell_type": "markdown",
   "metadata": {},
   "source": [
    "Create two more classes that inherit from the Employee class. One for Sales and one for Development. Both of these classes will have the same attributes as the Employee.<br>\n",
    "- For the Sales employees, add a phone number attribute on instantiation using the super method. \n",
    "- Create a method on the Sales class that will Send a Follow Up Email. It should take in a customer name and \"send\" aka print a formatted email \"Dear *customer*, Thank you for your interest in our product. Please let me know if you have any questions. My email is *email* or my phone number is *phone number*. Thanks, *full name*\"\n",
    "- Create a method on the Development class called code that will print out \"*full name* is writing code\"."
   ]
  },
  {
   "cell_type": "code",
   "execution_count": 14,
   "metadata": {},
   "outputs": [],
   "source": [
    "class Sales(Employee):\n",
    "    def __init__(self, f_name, l_name, title, salary, email, phone):\n",
    "        self.phone = phone\n",
    "        super().__init__(f_name, l_name, title, salary, email)\n",
    "\n",
    "    def chase_lead(self, client):\n",
    "        print(f\"\"\"Dear {client}, Thank you for your interest in our product. Please let me know if you have any questions.\n",
    "        My email is {self.email} or my phone is {self.phone}. Thanks {self.f_name} {self.l_name}.\"\"\")\n",
    "\n",
    "class Development(Employee):\n",
    "    def code_monkey(self):\n",
    "        print(f\"{self.f_name} {self.l_name} is writing code\")\n"
   ]
  },
  {
   "cell_type": "markdown",
   "metadata": {},
   "source": [
    "- Create an instance of a Sales Employee with a salary of $50,000.\n",
    "- Send follow up emails to \"Mike O'Neil\" and \"Hannah Stern\"\n",
    "- Give the employee a raise and print the salary"
   ]
  },
  {
   "cell_type": "code",
   "execution_count": 16,
   "metadata": {},
   "outputs": [
    {
     "name": "stdout",
     "output_type": "stream",
     "text": [
      "Dear Mike O'Neil, Thank you for your interest in our product. Please let me know if you have any questions.\n",
      "        My email is GJohnson@company.com or my phone is (555)-123-4567. Thanks Gary Johnson.\n",
      "Dear Hannah Stern, Thank you for your interest in our product. Please let me know if you have any questions.\n",
      "        My email is GJohnson@company.com or my phone is (555)-123-4567. Thanks Gary Johnson.\n",
      "52500.00\n"
     ]
    }
   ],
   "source": [
    "new_employee = Sales('Gary', 'Johnson', 'Lead Dev', 50000, 'GJohnson@company.com', '(555)-123-4567')\n",
    "\n",
    "new_employee.chase_lead(\"Mike O'Neil\")\n",
    "new_employee.chase_lead('Hannah Stern')\n",
    "print(new_employee.hooray())"
   ]
  },
  {
   "cell_type": "markdown",
   "metadata": {},
   "source": [
    "- Create an instance of a Development Employee with a salary of $100,000\n",
    "- Write some code with this employee (aka call the code method)\n",
    "- Give the employee a raise and print the salary"
   ]
  },
  {
   "cell_type": "code",
   "execution_count": 15,
   "metadata": {},
   "outputs": [
    {
     "name": "stdout",
     "output_type": "stream",
     "text": [
      "Moe Sizlack is writing code\n",
      "Moe\n",
      "105000.00\n"
     ]
    }
   ],
   "source": [
    "imp_employee = Development('Moe','Sizlack', 'Back End Dev', 100000, 'MSizlack@company.com')\n",
    "\n",
    "imp_employee.code_monkey()\n",
    "print(imp_employee.f_name)\n",
    "print(imp_employee.hooray())"
   ]
  },
  {
   "cell_type": "markdown",
   "metadata": {},
   "source": [
    "#### Exercise 2 - Importing Modules"
   ]
  },
  {
   "cell_type": "markdown",
   "metadata": {},
   "source": [
    "In VS Code, create a module titled `geometry` and add two functions in there. One that will calculate the area of a circle given a radius. The second will find the hypotenuse of a right angle given the two sides. Import the module or the functions from the module and use it to find the answers to the below questions"
   ]
  },
  {
   "cell_type": "code",
   "execution_count": 1,
   "metadata": {},
   "outputs": [],
   "source": [
    "import geometry as geo"
   ]
  },
  {
   "cell_type": "markdown",
   "metadata": {},
   "source": [
    "What is the area of a circle with a radius of 7cm?"
   ]
  },
  {
   "cell_type": "code",
   "execution_count": 2,
   "metadata": {},
   "outputs": [
    {
     "name": "stdout",
     "output_type": "stream",
     "text": [
      "153.93804002589985 cm\n"
     ]
    }
   ],
   "source": [
    "areaofcircle = geo.Area_of_Circle(7)\n",
    "print(areaofcircle, \"cm\") "
   ]
  },
  {
   "cell_type": "markdown",
   "metadata": {},
   "source": [
    "What is the hypotenuse of a right angle with sides of 3in and 4in?"
   ]
  },
  {
   "cell_type": "code",
   "execution_count": 3,
   "metadata": {},
   "outputs": [
    {
     "name": "stdout",
     "output_type": "stream",
     "text": [
      "25 in\n"
     ]
    }
   ],
   "source": [
    "hypotenuse = geo.Hypotenuse(3, 4)\n",
    "print(hypotenuse, \"in\")"
   ]
  },
  {
   "cell_type": "code",
   "execution_count": null,
   "metadata": {},
   "outputs": [],
   "source": []
  },
  {
   "cell_type": "code",
   "execution_count": null,
   "metadata": {},
   "outputs": [],
   "source": []
  }
 ],
 "metadata": {
  "kernelspec": {
   "display_name": "Python 3",
   "language": "python",
   "name": "python3"
  },
  "language_info": {
   "codemirror_mode": {
    "name": "ipython",
    "version": 3
   },
   "file_extension": ".py",
   "mimetype": "text/x-python",
   "name": "python",
   "nbconvert_exporter": "python",
   "pygments_lexer": "ipython3",
   "version": "3.11.0"
  },
  "vscode": {
   "interpreter": {
    "hash": "453c594d4a21d8cbf8177457aa1886e73a2791e0ce4f31c5b22469aee12b21a2"
   }
  }
 },
 "nbformat": 4,
 "nbformat_minor": 4
}
